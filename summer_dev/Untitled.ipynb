{
 "cells": [
  {
   "cell_type": "code",
   "execution_count": null,
   "id": "0e26d086-937b-4791-9194-132bbbde31f0",
   "metadata": {},
   "outputs": [],
   "source": []
  }
 ],
 "metadata": {
  "kernelspec": {
   "display_name": "",
   "name": ""
  },
  "language_info": {
   "name": ""
  }
 },
 "nbformat": 4,
 "nbformat_minor": 5
}
