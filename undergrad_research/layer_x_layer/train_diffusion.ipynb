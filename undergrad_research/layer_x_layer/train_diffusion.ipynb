{
 "cells": [
  {
   "cell_type": "code",
   "execution_count": null,
   "metadata": {},
   "outputs": [],
   "source": [
    "import torch\n",
    "import torch.nn as nn\n",
    "import torch.nn.functional as F\n",
    "import torch.optim as optim\n",
    "\n",
    "import numpy as np"
   ]
  },
  {
   "cell_type": "code",
   "execution_count": null,
   "metadata": {},
   "outputs": [],
   "source": [
    "def val_dataloader(self):\n",
    "    import xcube.data as dataset\n",
    "    val_set = dataset.build_dataset(\n",
    "        self.hparams.val_dataset, self.get_dataset_spec(), self.hparams, self.hparams.val_kwargs)\n",
    "    return DataLoader(val_set, batch_size=self.hparams.batch_size // self.trainer.world_size, shuffle=False,\n",
    "                        num_workers=self.hparams.train_val_num_workers, collate_fn=self.get_collate_fn())\n",
    "\n",
    "\n",
    "def train_dataloader(self):\n",
    "    import xcube.data as dataset\n",
    "    from torch.utils.data import DataLoader\n",
    "\n",
    "    shuffle = True\n",
    "    train_set = dataset.build_dataset(\n",
    "        self.hparams.train_dataset, self.get_dataset_spec(), self.hparams, self.hparams.train_kwargs, duplicate_num=self.hparams.duplicate_num) # !: A change here for adding duplicate num for trainset without lantet\n",
    "\n",
    "    batch_size = self.hparams.batch_size\n",
    "    \n",
    "    return DataLoader(train_set, batch_size=batch_size, shuffle=shuffle,\n",
    "                        num_workers=self.hparams.train_val_num_workers, collate_fn=self.get_collate_fn())"
   ]
  }
 ],
 "metadata": {
  "kernelspec": {
   "display_name": "base",
   "language": "python",
   "name": "python3"
  },
  "language_info": {
   "name": "python",
   "version": "3.12.7"
  }
 },
 "nbformat": 4,
 "nbformat_minor": 2
}
