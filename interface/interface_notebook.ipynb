{
 "cells": [
  {
   "cell_type": "code",
   "execution_count": 3,
   "id": "ac6894e5",
   "metadata": {},
   "outputs": [],
   "source": [
    "#!pip install \"pyglet<2\"\n",
    "import pyglet\n",
    "\n",
    "import warnings\n",
    "warnings.filterwarnings(\"ignore\", message=\"Could not set COM MTA mode\")\n",
    "\n",
    "import io\n",
    "import asyncio\n",
    "from IPython.display import display\n",
    "import ipywidgets as widgets\n",
    "from PIL import Image\n",
    "import trimesh as tri\n",
    "\n",
    "def get_images(callback):\n",
    "    def on_file_upload(change):\n",
    "        images = []\n",
    "        for uploaded_filename, uploaded_file in change['new'].items():\n",
    "            content = uploaded_file['content']\n",
    "            image = Image.open(io.BytesIO(content))\n",
    "            images.append(image)\n",
    "        display(*images)\n",
    "        callback(images)\n",
    "\n",
    "    file_uploader = widgets.FileUpload(accept='image/*', multiple=True)\n",
    "    file_uploader.observe(on_file_upload, names='value')\n",
    "\n",
    "    display(file_uploader)\n",
    "    \n",
    "import generator as gen\n",
    "\n",
    "# all the actual stuff goes here\n",
    "def generate(images):\n",
    "    # send these into generative model\n",
    "    print(\"Generating\")\n",
    "    mesh = gen.generate(images)\n",
    "    mesh.show() # ideally add as a view in here but notebooks suck and cant run async or show 2 views in 1 cell\n",
    "    print(\"Outputting as output.stl\")\n",
    "    with open(\"output.stl\", \"wb\") as f:\n",
    "        mesh.export(file_obj=\"output.stl\", file_type=\"stl\")\n",
    "    print(\"Done\")\n",
    "\n",
    "def run():\n",
    "    get_images(generate)"
   ]
  },
  {
   "cell_type": "markdown",
   "id": "5166b33a",
   "metadata": {},
   "source": [
    "# * <br>\n",
    "# * <br>\n",
    "# * <br>\n",
    "# * <br>\n",
    "# * <br>\n",
    "# * <br>\n",
    "# * <br>\n",
    "# * <br>\n",
    "# Interface"
   ]
  },
  {
   "cell_type": "code",
   "execution_count": 4,
   "id": "dad742c7",
   "metadata": {},
   "outputs": [
    {
     "data": {
      "application/vnd.jupyter.widget-view+json": {
       "model_id": "7919754cbf684c42b21684a4ea4eeca8",
       "version_major": 2,
       "version_minor": 0
      },
      "text/plain": [
       "FileUpload(value={}, accept='image/*', description='Upload', multiple=True)"
      ]
     },
     "metadata": {},
     "output_type": "display_data"
    },
    {
     "data": {
      "image/png": "[encoded data removed]",
      "text/plain": [
       "<PIL.PngImagePlugin.PngImageFile image mode=RGBA size=600x600>"
      ]
     },
     "metadata": {},
     "output_type": "display_data"
    },
    {
     "name": "stdout",
     "output_type": "stream",
     "text": [
      "Generating\n",
      "Outputting as output.stl\n",
      "Done\n"
     ]
    }
   ],
   "source": [
    "run()"
   ]
  }
 ],
 "metadata": {
  "kernelspec": {
   "display_name": "Python 3 (ipykernel)",
   "language": "python",
   "name": "python3"
  },
  "language_info": {
   "codemirror_mode": {
    "name": "ipython",
    "version": 3
   },
   "file_extension": ".py",
   "mimetype": "text/x-python",
   "name": "python",
   "nbconvert_exporter": "python",
   "pygments_lexer": "ipython3",
   "version": "3.9.13"
  }
 },
 "nbformat": 4,
 "nbformat_minor": 5
}
