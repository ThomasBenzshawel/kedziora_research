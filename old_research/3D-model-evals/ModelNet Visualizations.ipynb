{
 "cells": [
  {
   "cell_type": "markdown",
   "id": "40b81a25",
   "metadata": {},
   "source": [
    "# ModelNet and Thingiverse Data Visualization\n",
    "In the data cards, we need to have some idea of our distribution of stuff. Let's do some visualizing!"
   ]
  },
  {
   "cell_type": "markdown",
   "id": "7a90ab23",
   "metadata": {},
   "source": [
    "### Imports"
   ]
  },
  {
   "cell_type": "code",
   "execution_count": 1,
   "id": "eec401e7",
   "metadata": {},
   "outputs": [],
   "source": [
    "from volume_calculator import *\n",
    "import os\n",
    "import glob\n",
    "import pandas as pd\n",
    "import numpy as np\n",
    "import matplotlib.pyplot as plt\n",
    "import pylab\n",
    "import seaborn as sns\n",
    "import multiprocessing as mp\n",
    "from tqdm import *"
   ]
  },
  {
   "cell_type": "markdown",
   "id": "70e19ecc",
   "metadata": {},
   "source": [
    "### Set constants"
   ]
  },
  {
   "cell_type": "code",
   "execution_count": 2,
   "id": "ae7ad64b",
   "metadata": {},
   "outputs": [],
   "source": [
    "DATA_DIR = '/data/csc4801/KedzioraLab'\n",
    "names = ['airplane','bookshelf','bottle','bowl','car','cone','cup','dresser','stairs','vase','table','flower_pot']"
   ]
  },
  {
   "cell_type": "markdown",
   "id": "352c8055",
   "metadata": {},
   "source": [
    "### Define Reading an STL"
   ]
  },
  {
   "cell_type": "code",
   "execution_count": 3,
   "id": "7ca3a125",
   "metadata": {
    "scrolled": true
   },
   "outputs": [],
   "source": [
    "def read_stl(filename, material=2, unit='cm'):\n",
    "    mySTLUtils = STLUtils()\n",
    "    mySTLUtils.loadSTL(filename)\n",
    "    material_mass = materialsFor3DPrinting().get_material_mass(material)\n",
    "    v = mySTLUtils.volume(unit, material_mass)\n",
    "    m = mySTLUtils.mass(unit, material_mass)\n",
    "    a = mySTLUtils.area()\n",
    "    t = mySTLUtils.triangles\n",
    "    ta = mySTLUtils.areas\n",
    "    return v,m,a,t,ta\n",
    "util = STLUtils()"
   ]
  },
  {
   "cell_type": "markdown",
   "id": "528bfb0d",
   "metadata": {},
   "source": [
    "### Test"
   ]
  },
  {
   "cell_type": "code",
   "execution_count": 4,
   "id": "5f49bc51",
   "metadata": {
    "scrolled": true
   },
   "outputs": [],
   "source": [
    "# read_stl(DATA_DIR+'/thingiverse/vase/stls/Decorative_Vase/vase_flower.stl')"
   ]
  },
  {
   "cell_type": "markdown",
   "id": "f9547051",
   "metadata": {},
   "source": [
    "## Evaluate Data"
   ]
  },
  {
   "cell_type": "code",
   "execution_count": 5,
   "id": "395abae6",
   "metadata": {},
   "outputs": [
    {
     "name": "stdout",
     "output_type": "stream",
     "text": [
      "airplane\n"
     ]
    },
    {
     "name": "stderr",
     "output_type": "stream",
     "text": [
      "100%|██████████| 726/726 [06:52<00:00,  1.76it/s]\n"
     ]
    },
    {
     "name": "stdout",
     "output_type": "stream",
     "text": [
      "bookshelf\n"
     ]
    },
    {
     "name": "stderr",
     "output_type": "stream",
     "text": [
      "100%|██████████| 672/672 [01:33<00:00,  7.22it/s]\n"
     ]
    },
    {
     "name": "stdout",
     "output_type": "stream",
     "text": [
      "bottle\n"
     ]
    },
    {
     "name": "stderr",
     "output_type": "stream",
     "text": [
      "100%|██████████| 435/435 [00:41<00:00, 10.53it/s]\n"
     ]
    },
    {
     "name": "stdout",
     "output_type": "stream",
     "text": [
      "bowl\n"
     ]
    },
    {
     "name": "stderr",
     "output_type": "stream",
     "text": [
      "100%|██████████| 84/84 [00:04<00:00, 17.42it/s]\n"
     ]
    },
    {
     "name": "stdout",
     "output_type": "stream",
     "text": [
      "car\n"
     ]
    },
    {
     "name": "stderr",
     "output_type": "stream",
     "text": [
      "100%|██████████| 297/297 [03:27<00:00,  1.43it/s]\n"
     ]
    },
    {
     "name": "stdout",
     "output_type": "stream",
     "text": [
      "cone\n"
     ]
    },
    {
     "name": "stderr",
     "output_type": "stream",
     "text": [
      "100%|██████████| 187/187 [00:06<00:00, 28.60it/s] \n"
     ]
    },
    {
     "name": "stdout",
     "output_type": "stream",
     "text": [
      "cup\n"
     ]
    },
    {
     "name": "stderr",
     "output_type": "stream",
     "text": [
      "100%|██████████| 99/99 [00:01<00:00, 71.54it/s]\n"
     ]
    },
    {
     "name": "stdout",
     "output_type": "stream",
     "text": [
      "dresser\n"
     ]
    },
    {
     "name": "stderr",
     "output_type": "stream",
     "text": [
      "100%|██████████| 286/286 [00:42<00:00,  6.68it/s]\n"
     ]
    },
    {
     "name": "stdout",
     "output_type": "stream",
     "text": [
      "stairs\n"
     ]
    },
    {
     "name": "stderr",
     "output_type": "stream",
     "text": [
      "100%|██████████| 144/144 [00:37<00:00,  3.84it/s]\n"
     ]
    },
    {
     "name": "stdout",
     "output_type": "stream",
     "text": [
      "vase\n"
     ]
    },
    {
     "name": "stderr",
     "output_type": "stream",
     "text": [
      "100%|██████████| 575/575 [01:15<00:00,  7.64it/s]\n"
     ]
    },
    {
     "name": "stdout",
     "output_type": "stream",
     "text": [
      "table\n"
     ]
    },
    {
     "name": "stderr",
     "output_type": "stream",
     "text": [
      "100%|██████████| 492/492 [00:47<00:00, 10.37it/s]\n"
     ]
    },
    {
     "name": "stdout",
     "output_type": "stream",
     "text": [
      "flower_pot\n"
     ]
    },
    {
     "name": "stderr",
     "output_type": "stream",
     "text": [
      "100%|██████████| 169/169 [01:19<00:00,  2.14it/s]\n"
     ]
    }
   ],
   "source": [
    "partition = 'ModelNet40'\n",
    "df = pd.DataFrame()\n",
    "\n",
    "all_tris = {}\n",
    "all_area = {}\n",
    "\n",
    "for name in names[:]:\n",
    "    print(name)\n",
    "    all_tris[name] = []\n",
    "    all_area[name] = []\n",
    "    for stl in tqdm(glob.glob(os.path.join(DATA_DIR,partition,name,'**','*.stl'), recursive=True)):\n",
    "        try:\n",
    "            (v,m,a,t,ta) = read_stl(stl)\n",
    "            all_tris[name] += t\n",
    "            all_area[name] += ta\n",
    "            entry = pd.DataFrame({'class':name, 'volume':v, 'mass':m, 'area':a}, index=[0]) \n",
    "            df = pd.concat([df, entry], ignore_index=True)\n",
    "        except Exception as e:\n",
    "#                 print(e)\n",
    "            pass"
   ]
  },
  {
   "cell_type": "code",
   "execution_count": 6,
   "id": "eb0a9938",
   "metadata": {},
   "outputs": [],
   "source": [
    "# df = pd.concat(dfs, ignore_index=True)\n",
    "# all_tags = dict(zip(names,tags))\n",
    "# all_desc = dict(zip(names,desc))\n",
    "# all_tris = dict(zip(names,tris))\n",
    "# all_area = dict(zip(names,area))"
   ]
  },
  {
   "cell_type": "code",
   "execution_count": 7,
   "id": "7bf6cb9d",
   "metadata": {},
   "outputs": [
    {
     "name": "stdout",
     "output_type": "stream",
     "text": [
      "<class 'pandas.core.frame.DataFrame'>\n",
      "RangeIndex: 4166 entries, 0 to 4165\n",
      "Data columns (total 4 columns):\n",
      " #   Column  Non-Null Count  Dtype  \n",
      "---  ------  --------------  -----  \n",
      " 0   class   4166 non-null   object \n",
      " 1   volume  4166 non-null   float64\n",
      " 2   mass    4166 non-null   float64\n",
      " 3   area    4166 non-null   float64\n",
      "dtypes: float64(3), object(1)\n",
      "memory usage: 130.3+ KB\n"
     ]
    }
   ],
   "source": [
    "df.info()"
   ]
  },
  {
   "cell_type": "code",
   "execution_count": 8,
   "id": "18950596",
   "metadata": {
    "scrolled": true
   },
   "outputs": [
    {
     "data": {
      "text/html": [
       "<div>\n",
       "<style scoped>\n",
       "    .dataframe tbody tr th:only-of-type {\n",
       "        vertical-align: middle;\n",
       "    }\n",
       "\n",
       "    .dataframe tbody tr th {\n",
       "        vertical-align: top;\n",
       "    }\n",
       "\n",
       "    .dataframe thead th {\n",
       "        text-align: right;\n",
       "    }\n",
       "</style>\n",
       "<table border=\"1\" class=\"dataframe\">\n",
       "  <thead>\n",
       "    <tr style=\"text-align: right;\">\n",
       "      <th></th>\n",
       "      <th>count</th>\n",
       "      <th>mean</th>\n",
       "      <th>std</th>\n",
       "      <th>min</th>\n",
       "      <th>25%</th>\n",
       "      <th>50%</th>\n",
       "      <th>75%</th>\n",
       "      <th>max</th>\n",
       "    </tr>\n",
       "  </thead>\n",
       "  <tbody>\n",
       "    <tr>\n",
       "      <th>volume</th>\n",
       "      <td>4166.0</td>\n",
       "      <td>3.126468e+24</td>\n",
       "      <td>2.017965e+26</td>\n",
       "      <td>-4.697008e+14</td>\n",
       "      <td>1.776357e-17</td>\n",
       "      <td>1.052299</td>\n",
       "      <td>58.943707</td>\n",
       "      <td>1.302486e+28</td>\n",
       "    </tr>\n",
       "    <tr>\n",
       "      <th>mass</th>\n",
       "      <td>4166.0</td>\n",
       "      <td>3.908085e+24</td>\n",
       "      <td>2.522456e+26</td>\n",
       "      <td>-5.871260e+14</td>\n",
       "      <td>2.220446e-17</td>\n",
       "      <td>1.315374</td>\n",
       "      <td>73.679633</td>\n",
       "      <td>1.628108e+28</td>\n",
       "    </tr>\n",
       "    <tr>\n",
       "      <th>area</th>\n",
       "      <td>4166.0</td>\n",
       "      <td>9.482345e+15</td>\n",
       "      <td>6.120338e+17</td>\n",
       "      <td>1.116434e-05</td>\n",
       "      <td>3.727397e+01</td>\n",
       "      <td>197.710241</td>\n",
       "      <td>3163.017393</td>\n",
       "      <td>3.950345e+19</td>\n",
       "    </tr>\n",
       "  </tbody>\n",
       "</table>\n",
       "</div>"
      ],
      "text/plain": [
       "         count          mean           std           min           25%  \\\n",
       "volume  4166.0  3.126468e+24  2.017965e+26 -4.697008e+14  1.776357e-17   \n",
       "mass    4166.0  3.908085e+24  2.522456e+26 -5.871260e+14  2.220446e-17   \n",
       "area    4166.0  9.482345e+15  6.120338e+17  1.116434e-05  3.727397e+01   \n",
       "\n",
       "               50%          75%           max  \n",
       "volume    1.052299    58.943707  1.302486e+28  \n",
       "mass      1.315374    73.679633  1.628108e+28  \n",
       "area    197.710241  3163.017393  3.950345e+19  "
      ]
     },
     "execution_count": 8,
     "metadata": {},
     "output_type": "execute_result"
    }
   ],
   "source": [
    "df.describe().T"
   ]
  },
  {
   "cell_type": "code",
   "execution_count": 9,
   "id": "67da553c",
   "metadata": {
    "scrolled": false
   },
   "outputs": [],
   "source": [
    "tri_areas = pd.DataFrame(columns = ['Class', 'Triangle Areas'])\n",
    "for key, value in all_area.items():\n",
    "    cur_df = pd.DataFrame({'Class': [key]*len(value), 'Triangle Areas': value})\n",
    "    tri_areas = tri_areas.append(cur_df, ignore_index = True)"
   ]
  },
  {
   "cell_type": "code",
   "execution_count": 10,
   "id": "f1f4107e",
   "metadata": {},
   "outputs": [
    {
     "data": {
      "text/html": [
       "<div>\n",
       "<style scoped>\n",
       "    .dataframe tbody tr th:only-of-type {\n",
       "        vertical-align: middle;\n",
       "    }\n",
       "\n",
       "    .dataframe tbody tr th {\n",
       "        vertical-align: top;\n",
       "    }\n",
       "\n",
       "    .dataframe thead th {\n",
       "        text-align: right;\n",
       "    }\n",
       "</style>\n",
       "<table border=\"1\" class=\"dataframe\">\n",
       "  <thead>\n",
       "    <tr style=\"text-align: right;\">\n",
       "      <th></th>\n",
       "      <th>Class</th>\n",
       "      <th>Triangle Areas</th>\n",
       "    </tr>\n",
       "  </thead>\n",
       "  <tbody>\n",
       "    <tr>\n",
       "      <th>0</th>\n",
       "      <td>airplane</td>\n",
       "      <td>1.646704</td>\n",
       "    </tr>\n",
       "    <tr>\n",
       "      <th>1</th>\n",
       "      <td>airplane</td>\n",
       "      <td>0.226051</td>\n",
       "    </tr>\n",
       "    <tr>\n",
       "      <th>2</th>\n",
       "      <td>airplane</td>\n",
       "      <td>0.288131</td>\n",
       "    </tr>\n",
       "    <tr>\n",
       "      <th>3</th>\n",
       "      <td>airplane</td>\n",
       "      <td>3.095219</td>\n",
       "    </tr>\n",
       "    <tr>\n",
       "      <th>4</th>\n",
       "      <td>airplane</td>\n",
       "      <td>3.088606</td>\n",
       "    </tr>\n",
       "  </tbody>\n",
       "</table>\n",
       "</div>"
      ],
      "text/plain": [
       "      Class  Triangle Areas\n",
       "0  airplane        1.646704\n",
       "1  airplane        0.226051\n",
       "2  airplane        0.288131\n",
       "3  airplane        3.095219\n",
       "4  airplane        3.088606"
      ]
     },
     "execution_count": 10,
     "metadata": {},
     "output_type": "execute_result"
    }
   ],
   "source": [
    "tri_areas.head()"
   ]
  },
  {
   "cell_type": "code",
   "execution_count": 11,
   "id": "dc633444",
   "metadata": {},
   "outputs": [
    {
     "data": {
      "text/html": [
       "<div>\n",
       "<style scoped>\n",
       "    .dataframe tbody tr th:only-of-type {\n",
       "        vertical-align: middle;\n",
       "    }\n",
       "\n",
       "    .dataframe tbody tr th {\n",
       "        vertical-align: top;\n",
       "    }\n",
       "\n",
       "    .dataframe thead th {\n",
       "        text-align: right;\n",
       "    }\n",
       "</style>\n",
       "<table border=\"1\" class=\"dataframe\">\n",
       "  <thead>\n",
       "    <tr style=\"text-align: right;\">\n",
       "      <th></th>\n",
       "      <th>count</th>\n",
       "      <th>mean</th>\n",
       "      <th>std</th>\n",
       "      <th>min</th>\n",
       "      <th>25%</th>\n",
       "      <th>50%</th>\n",
       "      <th>75%</th>\n",
       "      <th>max</th>\n",
       "    </tr>\n",
       "  </thead>\n",
       "  <tbody>\n",
       "    <tr>\n",
       "      <th>Triangle Areas</th>\n",
       "      <td>108567755.0</td>\n",
       "      <td>3.638599e+13</td>\n",
       "      <td>5.896169e+16</td>\n",
       "      <td>0.0</td>\n",
       "      <td>0.006991</td>\n",
       "      <td>0.269013</td>\n",
       "      <td>6.696606</td>\n",
       "      <td>1.326251e+20</td>\n",
       "    </tr>\n",
       "  </tbody>\n",
       "</table>\n",
       "</div>"
      ],
      "text/plain": [
       "                      count          mean           std  min       25%  \\\n",
       "Triangle Areas  108567755.0  3.638599e+13  5.896169e+16  0.0  0.006991   \n",
       "\n",
       "                     50%       75%           max  \n",
       "Triangle Areas  0.269013  6.696606  1.326251e+20  "
      ]
     },
     "execution_count": 11,
     "metadata": {},
     "output_type": "execute_result"
    }
   ],
   "source": [
    "tri_areas.describe().T"
   ]
  },
  {
   "cell_type": "code",
   "execution_count": 12,
   "id": "bb34ed6b",
   "metadata": {
    "scrolled": true
   },
   "outputs": [
    {
     "data": {
      "image/png": "[encoded data removed]",
      "text/plain": [
       "<Figure size 1080x720 with 1 Axes>"
      ]
     },
     "metadata": {
      "needs_background": "light"
     },
     "output_type": "display_data"
    }
   ],
   "source": [
    "# get the distribution of the triangle areas\n",
    "# plt.figure(figsize=(15,10))\n",
    "tri_areas.boxplot(column='Triangle Areas', by=\"Class\", figsize=(15,10))\n",
    "# plt.gca().axes.get_xaxis().set_visible(False)\n",
    "plt.yscale('log')\n",
    "plt.ylabel(\"Triangle Mesh Surface Area ($cm^2$)\")\n",
    "plt.xlabel(\"Class\")\n",
    "pylab.show()"
   ]
  },
  {
   "cell_type": "code",
   "execution_count": 13,
   "id": "3eb98ce9",
   "metadata": {
    "scrolled": false
   },
   "outputs": [
    {
     "data": {
      "image/png": "[encoded data removed]",
      "text/plain": [
       "<Figure size 1080x720 with 1 Axes>"
      ]
     },
     "metadata": {
      "needs_background": "light"
     },
     "output_type": "display_data"
    },
    {
     "data": {
      "image/png": "[encoded data removed]",
      "text/plain": [
       "<Figure size 1080x720 with 1 Axes>"
      ]
     },
     "metadata": {
      "needs_background": "light"
     },
     "output_type": "display_data"
    },
    {
     "data": {
      "image/png": "[encoded data removed]",
      "text/plain": [
       "<Figure size 1080x720 with 1 Axes>"
      ]
     },
     "metadata": {
      "needs_background": "light"
     },
     "output_type": "display_data"
    }
   ],
   "source": [
    "for col in df.columns[1:]:\n",
    "    hist, bins = np.histogram(abs(df[col]), bins=10)\n",
    "    logbins = np.logspace(np.log10(bins[0]+0.000001),np.log10(bins[-1]),len(bins))\n",
    "    plt.figure(figsize=(15,10))\n",
    "    plt.hist(df[col], bins=logbins)\n",
    "    plt.title(\"ModelNet40 STL \" + col + \" Distribution\")\n",
    "    plt.ylabel(\"Number of Observations\")\n",
    "    plt.xlabel(col + \" value (log scale)\")\n",
    "    plt.xscale('log')\n",
    "    plt.show()"
   ]
  },
  {
   "cell_type": "code",
   "execution_count": 14,
   "id": "8f3d6c5c",
   "metadata": {},
   "outputs": [
    {
     "data": {
      "image/png": "[encoded data removed]",
      "text/plain": [
       "<Figure size 1080x720 with 1 Axes>"
      ]
     },
     "metadata": {
      "needs_background": "light"
     },
     "output_type": "display_data"
    }
   ],
   "source": [
    "# get the distribution of classes\n",
    "fig = plt.figure()\n",
    "df['class'].value_counts().plot(kind='bar', figsize=(15,10))\n",
    "plt.xlabel(\"Class\")\n",
    "plt.ylabel(\"Count of Class\")\n",
    "plt.title(\"Count of STLs per Class\")\n",
    "plt.show()"
   ]
  },
  {
   "cell_type": "code",
   "execution_count": 15,
   "id": "621abb5c",
   "metadata": {},
   "outputs": [
    {
     "data": {
      "text/plain": [
       "Text(0.5, 0, 'Trianlge Area Value (log scale)')"
      ]
     },
     "execution_count": 15,
     "metadata": {},
     "output_type": "execute_result"
    },
    {
     "data": {
      "image/png": "[encoded data removed]",
      "text/plain": [
       "<Figure size 1080x720 with 1 Axes>"
      ]
     },
     "metadata": {
      "needs_background": "light"
     },
     "output_type": "display_data"
    }
   ],
   "source": [
    "tri_areas.hist(figsize=(15,10))\n",
    "plt.title(\"Surface Triangle Area Distribution\")\n",
    "plt.ylabel(\"Number of Observations\")\n",
    "plt.xlabel(\"Trianlge Area Value (log scale)\")"
   ]
  },
  {
   "cell_type": "code",
   "execution_count": 16,
   "id": "292a74d3",
   "metadata": {},
   "outputs": [
    {
     "data": {
      "text/plain": [
       "<Figure size 432x288 with 0 Axes>"
      ]
     },
     "metadata": {},
     "output_type": "display_data"
    },
    {
     "data": {
      "image/png": "[encoded data removed]",
      "text/plain": [
       "<Figure size 432x288 with 1 Axes>"
      ]
     },
     "metadata": {
      "needs_background": "light"
     },
     "output_type": "display_data"
    }
   ],
   "source": [
    "# Get the violin plot of the volume\n",
    "fig = plt.figure()\n",
    "# sns.violinplot(x=df['volume'])\n",
    "# plt.xscale('log')\n",
    "# plt.gca().axes.get_yaxis().set_visible(False)\n",
    "df.hist(column='volume')\n",
    "plt.xlabel(\"Volume ($cm^3$)\")\n",
    "plt.ylabel(\"Frequency\")\n",
    "plt.title(\"Volume of ModelNet40 STLs\")\n",
    "plt.show()"
   ]
  },
  {
   "cell_type": "code",
   "execution_count": 17,
   "id": "cbd8f340",
   "metadata": {},
   "outputs": [
    {
     "data": {
      "image/png": "[encoded data removed]",
      "text/plain": [
       "<Figure size 432x288 with 1 Axes>"
      ]
     },
     "metadata": {
      "needs_background": "light"
     },
     "output_type": "display_data"
    }
   ],
   "source": [
    "# get a violin plot of the surface areas\n",
    "fig = plt.figure()\n",
    "sns.violinplot(x=df['area'])\n",
    "# plt.gca().axes.get_xaxis().set_visible(False)\n",
    "plt.xscale('log')\n",
    "plt.xlabel(\"Surface Area ($cm^2$)\")\n",
    "plt.ylabel(\"Frequency\")\n",
    "plt.title(\"Surface Area of ModelNet40 STLs\")\n",
    "plt.show()"
   ]
  },
  {
   "cell_type": "code",
   "execution_count": 18,
   "id": "b9e3240a",
   "metadata": {},
   "outputs": [
    {
     "data": {
      "image/png": "[encoded data removed]",
      "text/plain": [
       "<Figure size 432x288 with 1 Axes>"
      ]
     },
     "metadata": {
      "needs_background": "light"
     },
     "output_type": "display_data"
    }
   ],
   "source": [
    "# get a violin plot of the Mass\n",
    "fig = plt.figure()\n",
    "sns.violinplot(x=df['mass'])\n",
    "# plt.gca().axes.get_xaxis().set_visible(False)\n",
    "plt.xscale('log')\n",
    "plt.xlabel(\"Expected Mass (kg)\")\n",
    "plt.ylabel(\"Frequency\")\n",
    "plt.title(\"Mass of ModelNet40 STLs (using PLA)\")\n",
    "plt.show()"
   ]
  },
  {
   "cell_type": "code",
   "execution_count": 19,
   "id": "3cb7fba5",
   "metadata": {},
   "outputs": [],
   "source": [
    "tri_pts = pd.DataFrame(columns = ['Class', 'X', 'Y', 'Z'])\n",
    "for key, value in all_tris.items():\n",
    "#     vals = np.unique(np.array(value).reshape(-1,3), axis=0)\n",
    "#     vals = np.array(value).reshape(-1,3)\n",
    "#     x = vals[:,0]\n",
    "#     y = vals[:,1]\n",
    "#     z = vals[:,2]\n",
    "#     cur_df = pd.DataFrame({'X':x, 'Y':y, 'Z':z})\n",
    "    cur_df = pd.DataFrame(np.array(value).reshape(-1,3), columns=['X','Y','Z'])\n",
    "    cur_df['Class'] = key\n",
    "    tri_pts = tri_pts.append(cur_df, ignore_index = True)"
   ]
  },
  {
   "cell_type": "code",
   "execution_count": 20,
   "id": "746576a4",
   "metadata": {},
   "outputs": [
    {
     "data": {
      "text/html": [
       "<div>\n",
       "<style scoped>\n",
       "    .dataframe tbody tr th:only-of-type {\n",
       "        vertical-align: middle;\n",
       "    }\n",
       "\n",
       "    .dataframe tbody tr th {\n",
       "        vertical-align: top;\n",
       "    }\n",
       "\n",
       "    .dataframe thead th {\n",
       "        text-align: right;\n",
       "    }\n",
       "</style>\n",
       "<table border=\"1\" class=\"dataframe\">\n",
       "  <thead>\n",
       "    <tr style=\"text-align: right;\">\n",
       "      <th></th>\n",
       "      <th>Class</th>\n",
       "      <th>X</th>\n",
       "      <th>Y</th>\n",
       "      <th>Z</th>\n",
       "    </tr>\n",
       "  </thead>\n",
       "  <tbody>\n",
       "    <tr>\n",
       "      <th>0</th>\n",
       "      <td>airplane</td>\n",
       "      <td>7.57019</td>\n",
       "      <td>102.410004</td>\n",
       "      <td>27.026300</td>\n",
       "    </tr>\n",
       "    <tr>\n",
       "      <th>1</th>\n",
       "      <td>airplane</td>\n",
       "      <td>7.57019</td>\n",
       "      <td>102.819000</td>\n",
       "      <td>26.499201</td>\n",
       "    </tr>\n",
       "    <tr>\n",
       "      <th>2</th>\n",
       "      <td>airplane</td>\n",
       "      <td>12.04780</td>\n",
       "      <td>104.056000</td>\n",
       "      <td>28.295099</td>\n",
       "    </tr>\n",
       "    <tr>\n",
       "      <th>3</th>\n",
       "      <td>airplane</td>\n",
       "      <td>7.57019</td>\n",
       "      <td>102.819000</td>\n",
       "      <td>26.499201</td>\n",
       "    </tr>\n",
       "    <tr>\n",
       "      <th>4</th>\n",
       "      <td>airplane</td>\n",
       "      <td>7.57019</td>\n",
       "      <td>102.410004</td>\n",
       "      <td>27.026300</td>\n",
       "    </tr>\n",
       "  </tbody>\n",
       "</table>\n",
       "</div>"
      ],
      "text/plain": [
       "      Class         X           Y          Z\n",
       "0  airplane   7.57019  102.410004  27.026300\n",
       "1  airplane   7.57019  102.819000  26.499201\n",
       "2  airplane  12.04780  104.056000  28.295099\n",
       "3  airplane   7.57019  102.819000  26.499201\n",
       "4  airplane   7.57019  102.410004  27.026300"
      ]
     },
     "execution_count": 20,
     "metadata": {},
     "output_type": "execute_result"
    }
   ],
   "source": [
    "tri_pts.head()"
   ]
  },
  {
   "cell_type": "code",
   "execution_count": 21,
   "id": "b5ec4cbf",
   "metadata": {},
   "outputs": [
    {
     "name": "stdout",
     "output_type": "stream",
     "text": [
      "      Class         X           Y          Z\n",
      "0  airplane   7.57019  102.410004  27.026300\n",
      "1  airplane   7.57019  102.819000  26.499201\n",
      "2  airplane  12.04780  104.056000  28.295099\n",
      "3  airplane   7.57019  102.819000  26.499201\n",
      "4  airplane   7.57019  102.410004  27.026300\n"
     ]
    }
   ],
   "source": [
    "print(tri_pts.head())"
   ]
  },
  {
   "cell_type": "code",
   "execution_count": 22,
   "id": "3fd01d04",
   "metadata": {},
   "outputs": [
    {
     "data": {
      "text/html": [
       "<div>\n",
       "<style scoped>\n",
       "    .dataframe tbody tr th:only-of-type {\n",
       "        vertical-align: middle;\n",
       "    }\n",
       "\n",
       "    .dataframe tbody tr th {\n",
       "        vertical-align: top;\n",
       "    }\n",
       "\n",
       "    .dataframe thead th {\n",
       "        text-align: right;\n",
       "    }\n",
       "</style>\n",
       "<table border=\"1\" class=\"dataframe\">\n",
       "  <thead>\n",
       "    <tr style=\"text-align: right;\">\n",
       "      <th></th>\n",
       "      <th>count</th>\n",
       "      <th>mean</th>\n",
       "      <th>std</th>\n",
       "      <th>min</th>\n",
       "      <th>25%</th>\n",
       "      <th>50%</th>\n",
       "      <th>75%</th>\n",
       "      <th>max</th>\n",
       "    </tr>\n",
       "  </thead>\n",
       "  <tbody>\n",
       "    <tr>\n",
       "      <th>X</th>\n",
       "      <td>325703265.0</td>\n",
       "      <td>14851.619552</td>\n",
       "      <td>1.723443e+07</td>\n",
       "      <td>-6.029160e+08</td>\n",
       "      <td>-0.296874</td>\n",
       "      <td>67.274300</td>\n",
       "      <td>812.887024</td>\n",
       "      <td>4.440780e+10</td>\n",
       "    </tr>\n",
       "    <tr>\n",
       "      <th>Y</th>\n",
       "      <td>325703265.0</td>\n",
       "      <td>24319.053720</td>\n",
       "      <td>3.247004e+07</td>\n",
       "      <td>-6.270230e+05</td>\n",
       "      <td>1.258510</td>\n",
       "      <td>144.979996</td>\n",
       "      <td>965.018982</td>\n",
       "      <td>6.845180e+10</td>\n",
       "    </tr>\n",
       "    <tr>\n",
       "      <th>Z</th>\n",
       "      <td>325703265.0</td>\n",
       "      <td>4049.226268</td>\n",
       "      <td>6.802323e+06</td>\n",
       "      <td>-3.040390e+04</td>\n",
       "      <td>11.240300</td>\n",
       "      <td>70.473000</td>\n",
       "      <td>181.860001</td>\n",
       "      <td>2.455200e+10</td>\n",
       "    </tr>\n",
       "  </tbody>\n",
       "</table>\n",
       "</div>"
      ],
      "text/plain": [
       "         count          mean           std           min        25%  \\\n",
       "X  325703265.0  14851.619552  1.723443e+07 -6.029160e+08  -0.296874   \n",
       "Y  325703265.0  24319.053720  3.247004e+07 -6.270230e+05   1.258510   \n",
       "Z  325703265.0   4049.226268  6.802323e+06 -3.040390e+04  11.240300   \n",
       "\n",
       "          50%         75%           max  \n",
       "X   67.274300  812.887024  4.440780e+10  \n",
       "Y  144.979996  965.018982  6.845180e+10  \n",
       "Z   70.473000  181.860001  2.455200e+10  "
      ]
     },
     "execution_count": 22,
     "metadata": {},
     "output_type": "execute_result"
    }
   ],
   "source": [
    "tri_pts.describe().T"
   ]
  },
  {
   "cell_type": "code",
   "execution_count": 23,
   "id": "37f3f1a7",
   "metadata": {},
   "outputs": [],
   "source": [
    "# tri_pts.hist(figsize=(15,10))"
   ]
  },
  {
   "cell_type": "code",
   "execution_count": 24,
   "id": "8c9f360b",
   "metadata": {},
   "outputs": [],
   "source": [
    "# for col in tri_pts.columns[1:]:\n",
    "#     hist, bins = np.histogram(tri_pts[col], bins=10)\n",
    "#     plt.figure(figsize=(15,10))\n",
    "#     plt.hist(tri_pts[col], bins=bins)\n",
    "#     plt.title(\"ModelNet40 STL \" + col + \" Coordinate Distribution\")\n",
    "#     plt.ylabel(\"Number of Observations\")\n",
    "#     plt.xlabel(col + \" Coordinate value (log scale)\")\n",
    "#     plt.show()"
   ]
  },
  {
   "cell_type": "code",
   "execution_count": 25,
   "id": "cd31d767",
   "metadata": {
    "scrolled": true
   },
   "outputs": [],
   "source": [
    "# # get the distribution of the triangle areas\n",
    "# # plt.figure(figsize=(15,10))\n",
    "# tri_pts.boxplot(by=\"Class\", figsize=(15,10))\n",
    "# # plt.gca().axes.get_xaxis().set_visible(False)\n",
    "# plt.ylabel(\"Triangle Coordinate\")\n",
    "# plt.xlabel(\"Class\")\n",
    "# plt.tight_layout()\n",
    "# pylab.show()"
   ]
  },
  {
   "cell_type": "code",
   "execution_count": 26,
   "id": "684c37a3",
   "metadata": {
    "scrolled": true
   },
   "outputs": [
    {
     "data": {
      "image/png": "[encoded data removed]",
      "text/plain": [
       "<Figure size 1080x720 with 4 Axes>"
      ]
     },
     "metadata": {
      "needs_background": "light"
     },
     "output_type": "display_data"
    }
   ],
   "source": [
    "# get the distribution of the triangle areas\n",
    "# plt.figure(figsize=(15,10))\n",
    "tri_pts[(abs(tri_pts['Z'])<1000) & (abs(tri_pts['X'])<1000) & (abs(tri_pts['Y'])<1000)].boxplot(by=\"Class\", figsize=(15,10))\n",
    "# plt.gca().axes.get_xaxis().set_visible(False)\n",
    "plt.ylabel(\"Triangle Coordinate\")\n",
    "plt.xlabel(\"Class\")\n",
    "plt.tight_layout()\n",
    "pylab.show()"
   ]
  },
  {
   "cell_type": "code",
   "execution_count": null,
   "id": "5c7d8e18",
   "metadata": {},
   "outputs": [],
   "source": []
  },
  {
   "cell_type": "code",
   "execution_count": 27,
   "id": "3a781045",
   "metadata": {},
   "outputs": [],
   "source": [
    "# partition = 'thingiverse'\n",
    "# df = pd.DataFrame()\n",
    "\n",
    "# for name in names:\n",
    "#     stls = glob.glob(os.path.join(DATA_DIR,partition,name,'**','*.stl'), recursive=True)\n",
    "#     for stl in stls:\n",
    "#         try:\n",
    "#             (v,m,a) = read_stl(stl)\n",
    "#             entry = pd.DataFrame({'class':name, 'path':stl, 'volume':v, 'mass':m, 'area':a}, index=[0])\n",
    "#             df = pd.concat([df, entry], ignore_index=True)\n",
    "#         except Exception as e:\n",
    "#             print(e)\n",
    "#             pass\n",
    "        \n",
    "# df.to_csv(DATA_DIR+'/'+partition+'_stats.csv')"
   ]
  },
  {
   "cell_type": "code",
   "execution_count": 28,
   "id": "b717d50d",
   "metadata": {},
   "outputs": [],
   "source": [
    "# def read_stl(filename, material=2, unit='cm'):\n",
    "#     mySTLUtils = STLUtils()\n",
    "#     mySTLUtils.loadSTL(filename)\n",
    "#     material_mass = materialsFor3DPrinting().get_material_mass(material)\n",
    "#     v = mySTLUtils.volume(unit, material_mass)\n",
    "#     m = mySTLUtils.mass(unit, material_mass)\n",
    "#     a = mySTLUtils.area()\n",
    "#     pts = mySTLUtils.triangles\n",
    "#     return v,m,a,pts"
   ]
  }
 ],
 "metadata": {
  "kernelspec": {
   "display_name": "Python 3 (ipykernel)",
   "language": "python",
   "name": "python3"
  },
  "language_info": {
   "codemirror_mode": {
    "name": "ipython",
    "version": 3
   },
   "file_extension": ".py",
   "mimetype": "text/x-python",
   "name": "python",
   "nbconvert_exporter": "python",
   "pygments_lexer": "ipython3",
   "version": "3.7.13"
  }
 },
 "nbformat": 4,
 "nbformat_minor": 5
}
