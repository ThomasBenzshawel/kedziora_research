{
 "cells": [
  {
   "cell_type": "code",
   "execution_count": null,
   "id": "0c2fdfd1-ac5b-4931-b781-f1223ee4ff31",
   "metadata": {},
   "outputs": [],
   "source": [
    "# Code for objaverse"
   ]
  },
  {
   "cell_type": "code",
   "execution_count": null,
   "id": "952cf21d-8f9f-48c7-8866-d4f3aa984730",
   "metadata": {},
   "outputs": [],
   "source": [
    "import random\n",
    "import objaverse\n",
    "import multiprocessing as mp"
   ]
  },
  {
   "cell_type": "code",
   "execution_count": null,
   "id": "66b9fe47-e331-44b2-b883-692ebb4e5c63",
   "metadata": {},
   "outputs": [],
   "source": [
    "random.seed(32)\n",
    "uids = objaverse.load_uids()"
   ]
  },
  {
   "cell_type": "code",
   "execution_count": null,
   "id": "47f726d0-d581-4dc7-b78e-b49ee2eca337",
   "metadata": {},
   "outputs": [],
   "source": [
    "random_object_uids = random.sample(uids, 100)"
   ]
  },
  {
   "cell_type": "code",
   "execution_count": null,
   "id": "737916cf-d239-41eb-9594-f9a2c916dc72",
   "metadata": {},
   "outputs": [],
   "source": [
    "processes = mp.cpu_count()\n",
    "objects = objaverse.load_objects(\n",
    "    uids=random_object_uids,\n",
    "    download_processes=processes)"
   ]
  },
  {
   "cell_type": "code",
   "execution_count": null,
   "id": "282ae1d5-e792-4623-ae82-2567cf1ad2fb",
   "metadata": {},
   "outputs": [],
   "source": [
    "#typical objaverse path: \"home/benzshawelt/.objaverse/hf-objaverse-v1/glbs\""
   ]
  }
 ],
 "metadata": {
  "kernelspec": {
   "display_name": "Camera",
   "language": "python",
   "name": "camera"
  },
  "language_info": {
   "codemirror_mode": {
    "name": "ipython",
    "version": 3
   },
   "file_extension": ".py",
   "mimetype": "text/x-python",
   "name": "python",
   "nbconvert_exporter": "python",
   "pygments_lexer": "ipython3",
   "version": "3.11.9"
  }
 },
 "nbformat": 4,
 "nbformat_minor": 5
}
